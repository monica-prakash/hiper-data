{
 "cells": [
  {
   "cell_type": "code",
   "execution_count": 1,
   "metadata": {},
   "outputs": [],
   "source": [
    "import pandas as pd\n",
    "import numpy as np\n",
    "from datetime import datetime\n",
    "\n",
    "import plotly.graph_objects as go\n",
    "from plotly.subplots import make_subplots\n",
    "\n",
    "\n",
    "import re\n",
    "\n",
    "import matplotlib.pyplot as plt\n",
    "from statsmodels.tsa.stattools import adfuller\n",
    "from datetime import datetime\n",
    "from statsmodels.tsa.stattools import acf,pacf\n",
    "from statsmodels.tsa.arima_model import ARIMA\n",
    "\n",
    "import plotly.express as px\n",
    "\n",
    "import warnings\n",
    "warnings.filterwarnings(\"ignore\")"
   ]
  },
  {
   "cell_type": "code",
   "execution_count": 101,
   "metadata": {},
   "outputs": [],
   "source": [
    "dateparse = lambda dates: pd.datetime.strptime(dates,'%H:%M:%S')\n",
    "trip1= pd.read_csv('https://raw.githubusercontent.com/monica-prakash/hiper-data/master/trip1.CSV',parse_dates=['Time'],date_parser = dateparse)\n",
    "trip2= pd.read_csv('https://raw.githubusercontent.com/monica-prakash/hiper-data/master/trip2.CSV',parse_dates=['Time'],date_parser = dateparse)\n",
    "trip3= pd.read_csv('https://raw.githubusercontent.com/monica-prakash/hiper-data/master/trip3.CSV',parse_dates=['Time'],date_parser = dateparse)\n",
    "trip5= pd.read_csv('https://raw.githubusercontent.com/monica-prakash/hiper-data/master/trip5.CSV',parse_dates=['Time'],date_parser = dateparse)\n",
    "trip6= pd.read_csv('https://raw.githubusercontent.com/monica-prakash/hiper-data/master/trip6.CSV',parse_dates=['Time'],date_parser = dateparse)\n",
    "trip7= pd.read_csv('https://raw.githubusercontent.com/monica-prakash/hiper-data/master/trip7.CSV',parse_dates=['Time'],date_parser = dateparse)\n",
    "trip8= pd.read_csv('https://raw.githubusercontent.com/monica-prakash/hiper-data/master/trip8.CSV',parse_dates=['Time'],date_parser = dateparse)\n",
    "trip9= pd.read_csv('https://raw.githubusercontent.com/monica-prakash/hiper-data/master/trip9.CSV',parse_dates=['Time'],date_parser = dateparse)\n",
    "trip10= pd.read_csv('https://raw.githubusercontent.com/monica-prakash/hiper-data/master/trip10.CSV',parse_dates=['Time'],date_parser = dateparse)\n",
    "trip11= pd.read_csv('https://raw.githubusercontent.com/monica-prakash/hiper-data/master/trip11.CSV',parse_dates=['Time'],date_parser = dateparse)\n",
    "trip12= pd.read_csv('https://raw.githubusercontent.com/monica-prakash/hiper-data/master/trip12.CSV',parse_dates=['Time'],date_parser = dateparse)\n",
    "trip13= pd.read_csv('https://raw.githubusercontent.com/monica-prakash/hiper-data/master/trip13.CSV',parse_dates=['Time'],date_parser = dateparse)\n",
    "trip14= pd.read_csv('https://raw.githubusercontent.com/monica-prakash/hiper-data/master/trip14.CSV',parse_dates=['Time'],date_parser = dateparse)\n",
    "trip15= pd.read_csv('https://raw.githubusercontent.com/monica-prakash/hiper-data/master/trip15.CSV',parse_dates=['Time'],date_parser = dateparse)\n",
    "trip16= pd.read_csv('https://raw.githubusercontent.com/monica-prakash/hiper-data/master/trip16.CSV',parse_dates=['Time'],date_parser = dateparse)\n",
    "trip17= pd.read_csv('https://raw.githubusercontent.com/monica-prakash/hiper-data/master/trip17.CSV',parse_dates=['Time'],date_parser = dateparse)\n",
    "trip18= pd.read_csv('https://raw.githubusercontent.com/monica-prakash/hiper-data/master/trip18.CSV',parse_dates=['Time'],date_parser = dateparse)\n",
    "trip19= pd.read_csv('https://raw.githubusercontent.com/monica-prakash/hiper-data/master/trip19.CSV',parse_dates=['Time'],date_parser = dateparse)\n",
    "trip20= pd.read_csv('https://raw.githubusercontent.com/monica-prakash/hiper-data/master/trip20.CSV',parse_dates=['Time'],date_parser = dateparse)\n",
    "trip21= pd.read_csv('https://raw.githubusercontent.com/monica-prakash/hiper-data/master/trip21.CSV',parse_dates=['Time'],date_parser = dateparse)"
   ]
  },
  {
   "cell_type": "code",
   "execution_count": 102,
   "metadata": {},
   "outputs": [],
   "source": [
    "trip1.columns = map(str.lower,trip1.columns)\n",
    "trip2.columns = map(str.lower,trip2.columns)\n",
    "trip3.columns = map(str.lower,trip3.columns)\n",
    "trip5.columns = map(str.lower,trip5.columns)\n",
    "trip6.columns = map(str.lower,trip6.columns)\n",
    "trip7.columns = map(str.lower,trip7.columns)\n",
    "trip8.columns = map(str.lower,trip8.columns)\n",
    "trip9.columns = map(str.lower,trip9.columns)\n",
    "trip10.columns = map(str.lower,trip10.columns)\n",
    "trip11.columns = map(str.lower,trip11.columns)\n",
    "trip12.columns = map(str.lower,trip12.columns)\n",
    "trip13.columns = map(str.lower,trip13.columns)\n",
    "trip14.columns = map(str.lower,trip14.columns)\n",
    "trip15.columns = map(str.lower,trip15.columns)\n",
    "trip16.columns = map(str.lower,trip16.columns)\n",
    "trip17.columns = map(str.lower,trip17.columns)\n",
    "trip18.columns = map(str.lower,trip18.columns)\n",
    "trip19.columns = map(str.lower,trip19.columns)\n",
    "trip20.columns = map(str.lower,trip20.columns)\n",
    "trip21.columns = map(str.lower,trip21.columns)"
   ]
  },
  {
   "cell_type": "code",
   "execution_count": 135,
   "metadata": {},
   "outputs": [],
   "source": [
    "data_list  = [trip1,trip2,trip3,trip5,trip6,trip7,trip8,trip9,trip10,trip11,trip12,trip13,trip14,trip15,trip16,trip17,trip18,trip19,trip20,trip21]\n",
    "column_list = ['rpm','fuel flow rate','rail pressure','maf','bat volt','engine load','iat']\n",
    "decode_list = ['rpm','tps','fuel flow rate','engine load','rail pressure','map','baro','speed','ect','iat','maf','egr']\n",
    "\n"
   ]
  },
  {
   "cell_type": "code",
   "execution_count": 104,
   "metadata": {},
   "outputs": [],
   "source": [
    "trip1['latitude'] = trip1['latitude'].fillna(0)\n",
    "trip1['longitude'] = trip1['longitude'].fillna(0)\n",
    "\n",
    "trip2['latitude'] = trip2['latitude'].fillna(0)\n",
    "trip2['longitude'] = trip2['longitude'].fillna(0)\n",
    "\n",
    "trip3['latitude'] = trip3['latitude'].fillna(0)\n",
    "trip3['longitude'] = trip3['longitude'].fillna(0)\n",
    "\n",
    "trip5['latitude'] = trip5['latitude'].fillna(0)\n",
    "trip5['longitude'] = trip5['longitude'].fillna(0)\n",
    "trip5['rpm'] = trip5['rpm'].fillna(0)\n",
    "\n",
    "trip8['latitude'] = trip8['latitude'].fillna(0)\n",
    "trip8['longitude'] = trip8['longitude'].fillna(0)\n",
    "trip8['egr'] = trip8['egr'].fillna(0)\n",
    "trip8['rpm'] = trip8['rpm'].fillna(0)\n",
    "\n",
    "trip9['latitude'] = trip9['latitude'].fillna(0)\n",
    "trip9['longitude'] = trip9['longitude'].fillna(0)\n",
    "\n",
    "trip10['latitude'] = trip10['latitude'].fillna(0)\n",
    "trip10['longitude'] = trip10['longitude'].fillna(0)\n",
    "\n",
    "trip11['latitude'] = trip11['latitude'].fillna(0)\n",
    "trip11['longitude'] = trip11['longitude'].fillna(0)\n",
    "trip11['rpm'] = trip11['rpm'].fillna(0)\n",
    "\n",
    "trip12['latitude'] = trip12['latitude'].fillna(0)\n",
    "trip12['longitude'] = trip12['longitude'].fillna(0)\n",
    "trip12['egr'] = trip12['egr'].fillna(0)\n",
    "trip12['bat volt'] = trip12['bat volt'].fillna(0)\n",
    "\n",
    "trip13['latitude'] = trip13['latitude'].fillna(0)\n",
    "trip13['longitude'] = trip13['longitude'].fillna(0)\n",
    "\n",
    "trip14['latitude'] = trip14['latitude'].fillna(0)\n",
    "trip14['longitude'] = trip14['longitude'].fillna(0)\n",
    "\n",
    "trip15['latitude'] = trip15['latitude'].fillna(0)\n",
    "trip15['longitude'] = trip15['longitude'].fillna(0)\n",
    "\n",
    "trip16['latitude'] = trip16['latitude'].fillna(0)\n",
    "trip16['longitude'] = trip16['longitude'].fillna(0)\n",
    "\n",
    "trip17['latitude'] = trip17['latitude'].fillna(0)\n",
    "trip17['longitude'] = trip17['longitude'].fillna(0)\n",
    "\n",
    "trip18['latitude'] = trip18['latitude'].fillna(0)\n",
    "trip18['longitude'] = trip18['longitude'].fillna(0)\n",
    "\n",
    "trip19['latitude'] = trip19['latitude'].fillna(0)\n",
    "trip19['longitude'] = trip19['longitude'].fillna(0)\n",
    "\n",
    "trip20['latitude'] = trip20['latitude'].fillna(0)\n",
    "trip20['longitude'] = trip20['longitude'].fillna(0)\n",
    "\n",
    "\n",
    "\n",
    "trip11['rpm'] = trip11['rpm'].fillna(0)\n"
   ]
  },
  {
   "cell_type": "code",
   "execution_count": 105,
   "metadata": {},
   "outputs": [],
   "source": [
    "def remove_scientific(list1):\n",
    "    temp = list1\n",
    "    temp.replace('0.00E+00','0e00',inplace=True)\n",
    "    return temp\n"
   ]
  },
  {
   "cell_type": "code",
   "execution_count": 106,
   "metadata": {},
   "outputs": [],
   "source": [
    "for i in data_list:\n",
    "    for j in column_list:\n",
    "        i[j] = remove_scientific(i[j])"
   ]
  },
  {
   "cell_type": "code",
   "execution_count": 107,
   "metadata": {},
   "outputs": [],
   "source": [
    "def decode_rpm(list1):\n",
    "    temp = list1\n",
    "    temp = [int(str(i),16)/4 for i in temp.values]\n",
    "    return temp\n",
    "\n",
    "def decode_tps_egr(list1):\n",
    "    temp=list1\n",
    "    temp = [int(str(i),16)*(100/255) for i in temp.values]\n",
    "    return temp\n",
    "\n",
    "\n",
    "def decode_ect_iat(list1):\n",
    "    temp=list1\n",
    "    temp = [int(str(i),16)-40 for i in temp.values]\n",
    "    return temp\n",
    "\n",
    "def decode_map_baro_speed(list1):\n",
    "    temp=list1\n",
    "    temp = [int(str(i),16) for i in temp.values]\n",
    "    return temp\n",
    "\n",
    "def decode_maf(list1):\n",
    "    temp = list1\n",
    "    temp = [int(str(i),16)/100 for i in temp.values]\n",
    "    return temp\n",
    "\n",
    "def decode_rail_pressure(list1):\n",
    "    temp = list1\n",
    "    temp = [int(str(i),16)*10 for i in temp.values]\n",
    "    return temp\n",
    "\n",
    "def decode_engine_load(list1):\n",
    "    temp = list1\n",
    "    temp = [int(str(i),16)/2.55 for i in temp.values]\n",
    "    return temp\n",
    "\n",
    "def decode_fuel(list1):\n",
    "    temp = list1\n",
    "    temp = [int(str(i),16)/20 for i in temp.values]\n",
    "    return temp\n",
    "    "
   ]
  },
  {
   "cell_type": "code",
   "execution_count": 108,
   "metadata": {},
   "outputs": [],
   "source": [
    "for i in data_list:\n",
    "    i['rpm'] = decode_rpm(i['rpm'])\n",
    "    "
   ]
  },
  {
   "cell_type": "code",
   "execution_count": 109,
   "metadata": {},
   "outputs": [],
   "source": [
    "for i in data_list:\n",
    "    i['fuel flow rate'] = decode_fuel(i['fuel flow rate'])"
   ]
  },
  {
   "cell_type": "code",
   "execution_count": 110,
   "metadata": {},
   "outputs": [],
   "source": [
    "for i in data_list:\n",
    "    i['egr'] = decode_tps_fuel_egr(i['egr'])"
   ]
  },
  {
   "cell_type": "code",
   "execution_count": 111,
   "metadata": {},
   "outputs": [],
   "source": [
    "for i in data_list:\n",
    "    i['engine load'] = decode_engine_load(i['engine load'])\n",
    "\n"
   ]
  },
  {
   "cell_type": "code",
   "execution_count": 112,
   "metadata": {},
   "outputs": [],
   "source": [
    "for i in data_list:\n",
    "    i['rail pressure'] = decode_rail_pressure(i['rail pressure'])"
   ]
  },
  {
   "cell_type": "code",
   "execution_count": 113,
   "metadata": {},
   "outputs": [],
   "source": [
    "for i in data_list:\n",
    "    i['map'] = decode_map_baro_speed(i['map'])"
   ]
  },
  {
   "cell_type": "code",
   "execution_count": 114,
   "metadata": {},
   "outputs": [],
   "source": [
    "for i in data_list:\n",
    "    i['baro'] = decode_map_baro_speed(i['baro'])"
   ]
  },
  {
   "cell_type": "code",
   "execution_count": 115,
   "metadata": {},
   "outputs": [],
   "source": [
    "for i in data_list:\n",
    "    i['speed'] = decode_map_baro_speed(i['speed'])"
   ]
  },
  {
   "cell_type": "code",
   "execution_count": 116,
   "metadata": {},
   "outputs": [],
   "source": [
    "for i in data_list:\n",
    "    i['ect'] = decode_ect_iat(i['ect'])"
   ]
  },
  {
   "cell_type": "code",
   "execution_count": 117,
   "metadata": {},
   "outputs": [],
   "source": [
    "for i in data_list:\n",
    "    i['iat'] = decode_ect_iat(i['iat'])"
   ]
  },
  {
   "cell_type": "code",
   "execution_count": 118,
   "metadata": {},
   "outputs": [],
   "source": [
    "for i in data_list:\n",
    "    i['maf'] = decode_maf(i['maf'])\n"
   ]
  },
  {
   "cell_type": "code",
   "execution_count": 138,
   "metadata": {},
   "outputs": [],
   "source": [
    "trip8.to_csv(r'C:\\Users\\monica prakash\\Desktop\\hiper data\\trip8dataa.csv')"
   ]
  },
  {
   "cell_type": "markdown",
   "metadata": {},
   "source": [
    "# Hiper Automotive Fuel Dependency Dashboard"
   ]
  },
  {
   "cell_type": "markdown",
   "metadata": {},
   "source": [
    "# 1. Amount of fuel consumed at the end of each trip"
   ]
  },
  {
   "cell_type": "code",
   "execution_count": 120,
   "metadata": {},
   "outputs": [],
   "source": [
    "def calculate_fuel(list1):\n",
    "    temp = list1\n",
    "    value = sum(temp.values)/3600\n",
    "    return value"
   ]
  },
  {
   "cell_type": "code",
   "execution_count": 136,
   "metadata": {},
   "outputs": [],
   "source": [
    "fuel_consumption = []\n",
    "for i in data_list:\n",
    "    fuel = calculate_fuel(i['fuel flow rate'])\n",
    "    fuel_consumption.append(fuel)"
   ]
  },
  {
   "cell_type": "code",
   "execution_count": 141,
   "metadata": {},
   "outputs": [],
   "source": [
    "fuel_consumption = [round(i,2) for i in fuel_consumption]"
   ]
  },
  {
   "cell_type": "code",
   "execution_count": 145,
   "metadata": {},
   "outputs": [],
   "source": [
    "trip_name = ['trip1','trip2','trip3','trip5','trip6','trip7','trip8','trip9','trip10','trip11','trip12','trip13','trip14','trip15','trip16','trip17','trip18','trip19','trip20','trip21']"
   ]
  },
  {
   "cell_type": "code",
   "execution_count": 146,
   "metadata": {},
   "outputs": [],
   "source": [
    "fuel_data = pd.DataFrame(list(zip(trip_name,fuel_consumption)),columns=['Trip','Fuel Consumed'])"
   ]
  },
  {
   "cell_type": "code",
   "execution_count": 147,
   "metadata": {},
   "outputs": [
    {
     "data": {
      "text/html": [
       "<div>\n",
       "<style scoped>\n",
       "    .dataframe tbody tr th:only-of-type {\n",
       "        vertical-align: middle;\n",
       "    }\n",
       "\n",
       "    .dataframe tbody tr th {\n",
       "        vertical-align: top;\n",
       "    }\n",
       "\n",
       "    .dataframe thead th {\n",
       "        text-align: right;\n",
       "    }\n",
       "</style>\n",
       "<table border=\"1\" class=\"dataframe\">\n",
       "  <thead>\n",
       "    <tr style=\"text-align: right;\">\n",
       "      <th></th>\n",
       "      <th>Trip</th>\n",
       "      <th>Fuel Consumed</th>\n",
       "    </tr>\n",
       "  </thead>\n",
       "  <tbody>\n",
       "    <tr>\n",
       "      <td>0</td>\n",
       "      <td>trip1</td>\n",
       "      <td>5.52</td>\n",
       "    </tr>\n",
       "    <tr>\n",
       "      <td>1</td>\n",
       "      <td>trip2</td>\n",
       "      <td>11.75</td>\n",
       "    </tr>\n",
       "    <tr>\n",
       "      <td>2</td>\n",
       "      <td>trip3</td>\n",
       "      <td>19.99</td>\n",
       "    </tr>\n",
       "    <tr>\n",
       "      <td>3</td>\n",
       "      <td>trip5</td>\n",
       "      <td>32.99</td>\n",
       "    </tr>\n",
       "    <tr>\n",
       "      <td>4</td>\n",
       "      <td>trip6</td>\n",
       "      <td>3.05</td>\n",
       "    </tr>\n",
       "    <tr>\n",
       "      <td>5</td>\n",
       "      <td>trip7</td>\n",
       "      <td>5.09</td>\n",
       "    </tr>\n",
       "    <tr>\n",
       "      <td>6</td>\n",
       "      <td>trip8</td>\n",
       "      <td>1.26</td>\n",
       "    </tr>\n",
       "    <tr>\n",
       "      <td>7</td>\n",
       "      <td>trip9</td>\n",
       "      <td>10.88</td>\n",
       "    </tr>\n",
       "    <tr>\n",
       "      <td>8</td>\n",
       "      <td>trip10</td>\n",
       "      <td>10.87</td>\n",
       "    </tr>\n",
       "    <tr>\n",
       "      <td>9</td>\n",
       "      <td>trip11</td>\n",
       "      <td>2.46</td>\n",
       "    </tr>\n",
       "    <tr>\n",
       "      <td>10</td>\n",
       "      <td>trip12</td>\n",
       "      <td>2.70</td>\n",
       "    </tr>\n",
       "    <tr>\n",
       "      <td>11</td>\n",
       "      <td>trip13</td>\n",
       "      <td>26.65</td>\n",
       "    </tr>\n",
       "    <tr>\n",
       "      <td>12</td>\n",
       "      <td>trip14</td>\n",
       "      <td>10.94</td>\n",
       "    </tr>\n",
       "    <tr>\n",
       "      <td>13</td>\n",
       "      <td>trip15</td>\n",
       "      <td>1.41</td>\n",
       "    </tr>\n",
       "    <tr>\n",
       "      <td>14</td>\n",
       "      <td>trip16</td>\n",
       "      <td>5.79</td>\n",
       "    </tr>\n",
       "    <tr>\n",
       "      <td>15</td>\n",
       "      <td>trip17</td>\n",
       "      <td>26.65</td>\n",
       "    </tr>\n",
       "    <tr>\n",
       "      <td>16</td>\n",
       "      <td>trip18</td>\n",
       "      <td>10.94</td>\n",
       "    </tr>\n",
       "    <tr>\n",
       "      <td>17</td>\n",
       "      <td>trip19</td>\n",
       "      <td>1.41</td>\n",
       "    </tr>\n",
       "    <tr>\n",
       "      <td>18</td>\n",
       "      <td>trip20</td>\n",
       "      <td>5.79</td>\n",
       "    </tr>\n",
       "    <tr>\n",
       "      <td>19</td>\n",
       "      <td>trip21</td>\n",
       "      <td>32.15</td>\n",
       "    </tr>\n",
       "  </tbody>\n",
       "</table>\n",
       "</div>"
      ],
      "text/plain": [
       "      Trip  Fuel Consumed\n",
       "0    trip1           5.52\n",
       "1    trip2          11.75\n",
       "2    trip3          19.99\n",
       "3    trip5          32.99\n",
       "4    trip6           3.05\n",
       "5    trip7           5.09\n",
       "6    trip8           1.26\n",
       "7    trip9          10.88\n",
       "8   trip10          10.87\n",
       "9   trip11           2.46\n",
       "10  trip12           2.70\n",
       "11  trip13          26.65\n",
       "12  trip14          10.94\n",
       "13  trip15           1.41\n",
       "14  trip16           5.79\n",
       "15  trip17          26.65\n",
       "16  trip18          10.94\n",
       "17  trip19           1.41\n",
       "18  trip20           5.79\n",
       "19  trip21          32.15"
      ]
     },
     "execution_count": 147,
     "metadata": {},
     "output_type": "execute_result"
    }
   ],
   "source": [
    "fuel_data"
   ]
  },
  {
   "cell_type": "code",
   "execution_count": null,
   "metadata": {},
   "outputs": [],
   "source": []
  }
 ],
 "metadata": {
  "kernelspec": {
   "display_name": "Python 3",
   "language": "python",
   "name": "python3"
  },
  "language_info": {
   "codemirror_mode": {
    "name": "ipython",
    "version": 3
   },
   "file_extension": ".py",
   "mimetype": "text/x-python",
   "name": "python",
   "nbconvert_exporter": "python",
   "pygments_lexer": "ipython3",
   "version": "3.7.4"
  }
 },
 "nbformat": 4,
 "nbformat_minor": 2
}
